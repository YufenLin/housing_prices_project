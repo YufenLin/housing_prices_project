{
 "cells": [
  {
   "cell_type": "markdown",
   "metadata": {},
   "source": [
    "# Linear regression model for the sale price of homes¶"
   ]
  },
  {
   "cell_type": "markdown",
   "metadata": {},
   "source": [
    "## Purpose"
   ]
  },
  {
   "cell_type": "markdown",
   "metadata": {},
   "source": [
    "## Assumptions"
   ]
  },
  {
   "cell_type": "markdown",
   "metadata": {},
   "source": [
    "## Issues"
   ]
  },
  {
   "cell_type": "markdown",
   "metadata": {},
   "source": [
    "## Analysis Method"
   ]
  },
  {
   "cell_type": "markdown",
   "metadata": {},
   "source": [
    "## Conclusion"
   ]
  },
  {
   "cell_type": "code",
   "execution_count": 35,
   "metadata": {},
   "outputs": [],
   "source": [
    "import sqlalchemy\n",
    "import pandas as pd\n",
    "import numpy as np\n",
    "import statsmodels.api as sm\n",
    "import seaborn as sns\n",
    "from sqlalchemy import create_engine\n",
    "import matplotlib.pyplot as plt\n",
    "from statsmodels.formula.api import ols\n",
    "from sklearn.preprocessing import OneHotEncoder\n",
    "%matplotlib inline"
   ]
  },
  {
   "cell_type": "markdown",
   "metadata": {},
   "source": [
    "Load all the [data](https://info.kingcounty.gov/assessor/DataDownload/default.aspx) from three tables:\n",
    "- Real Property Sales \n",
    "- Residential Building \n",
    "- Parcel \n"
   ]
  },
  {
   "cell_type": "markdown",
   "metadata": {},
   "source": [
    "### Create POSTGRES SQL engine and query from housing_prices database."
   ]
  },
  {
   "cell_type": "code",
   "execution_count": 3,
   "metadata": {},
   "outputs": [],
   "source": [
    "engine = create_engine(\"postgresql:///housing_prices\")"
   ]
  },
  {
   "cell_type": "code",
   "execution_count": 4,
   "metadata": {},
   "outputs": [],
   "source": [
    "sql = 'sql/join_table.sql'\n",
    "scriptFile = open(sql,'r')\n",
    "script = scriptFile.read()\n",
    "df = pd.read_sql(sqlalchemy.text(script), con = engine)"
   ]
  },
  {
   "cell_type": "code",
   "execution_count": 37,
   "metadata": {},
   "outputs": [],
   "source": [
    "df['open_plus_closed_porch']= df['sqftenclosedporch'] + df['sqftopenporch']"
   ]
  },
  {
   "cell_type": "markdown",
   "metadata": {},
   "source": [
    "Calculate the age of the house."
   ]
  },
  {
   "cell_type": "code",
   "execution_count": 39,
   "metadata": {},
   "outputs": [],
   "source": [
    "df['age'] = 2019 - df['yrbuilt']"
   ]
  },
  {
   "cell_type": "markdown",
   "metadata": {},
   "source": [
    "### Export table to csv file."
   ]
  },
  {
   "cell_type": "code",
   "execution_count": 485,
   "metadata": {},
   "outputs": [],
   "source": [
    "# df.to_csv(r'../data/processed/residential.csv')"
   ]
  },
  {
   "cell_type": "markdown",
   "metadata": {},
   "source": [
    "### Use OneHotEncoder to encode categorical features as a one-hot numeric array."
   ]
  },
  {
   "cell_type": "code",
   "execution_count": 33,
   "metadata": {},
   "outputs": [],
   "source": [
    "def ohe_func(feature, df):\n",
    "    \n",
    "    \"\"\"\n",
    "    Encode int categorical features as a one-hot numeric array \n",
    "    return df which include new numeric column and original df\n",
    "\n",
    "    \"\"\"\n",
    "    \n",
    "    df_feature = df[[feature]]\n",
    "    onehotencoder = OneHotEncoder(categorical_features = [0])\n",
    "    data_str_ohe=onehotencoder.fit_transform(df_feature).toarray()\n",
    "    df_new = pd.DataFrame(data_str_ohe)\n",
    "    df = pd.concat([df, df_new],axis=1)\n",
    "    \n",
    "    return df"
   ]
  },
  {
   "cell_type": "markdown",
   "metadata": {},
   "source": [
    "Put the categorical features to ohe_func function to get one-hot numeric and rename columns."
   ]
  },
  {
   "cell_type": "code",
   "execution_count": null,
   "metadata": {},
   "outputs": [],
   "source": [
    "df = ohe_func('wfntlocation', df)\n",
    "df.rename(columns={0:\"wfntlocation_0\", 1:\"wfntlocation_3\", 2:\"wfntlocation_6\", 3:\"wfntlocation_7\", 4:\"wfntlocation_8\", 5:\"wfntlocation_9\"}, inplace=True)"
   ]
  },
  {
   "cell_type": "markdown",
   "metadata": {},
   "source": [
    "Encode string categorical features as a one-hot numeric array"
   ]
  },
  {
   "cell_type": "code",
   "execution_count": 13,
   "metadata": {},
   "outputs": [],
   "source": [
    "df_feature = df['directionprefix']\n",
    "df_dir = pd.DataFrame(df_feature)\n",
    "ohe = OneHotEncoder(drop='first')\n",
    "df_dir.fillna(\"D\",inplace=True)\n",
    "df_dir_trans = ohe.fit_transform(df_dir)\n",
    "df_dir_trans.todense()\n",
    "df_dir = pd.DataFrame(df_dir_trans.todense(), columns=ohe.get_feature_names())\n",
    "df_dir.rename(columns={df_dir.columns[0]:\"directionprefix_E\", \n",
    "                       df_dir.columns[1]:\"directionprefix_N\", \n",
    "                       df_dir.columns[2]:\"directionprefix_NE\", \n",
    "                       df_dir.columns[3]:\"directionprefix_NW\", \n",
    "                       df_dir.columns[4]:\"directionprefix_S\",\n",
    "                       df_dir.columns[5]:\"directionprefix_SE\",\n",
    "                       df_dir.columns[6]:\"directionprefix_SW\",\n",
    "                       df_dir.columns[7]:\"directionprefix_W\",}, \n",
    "              inplace=True)\n",
    "df = pd.concat([df, df_dir],axis=1)"
   ]
  },
  {
   "cell_type": "code",
   "execution_count": 23,
   "metadata": {},
   "outputs": [],
   "source": [
    "preds = df[['sqfttotliving','sqftopenporch']]\n",
    "# preds = df[['sqfttotliving','sqftopenporch', 'trafficnoise']]\n",
    "target = df['saleprice']"
   ]
  },
  {
   "cell_type": "markdown",
   "metadata": {},
   "source": [
    "## Can we model square foot of living with price?\n",
    "Create a model with one predictor, for practice."
   ]
  },
  {
   "cell_type": "code",
   "execution_count": 40,
   "metadata": {},
   "outputs": [
    {
     "data": {
      "text/html": [
       "<table class=\"simpletable\">\n",
       "<caption>OLS Regression Results</caption>\n",
       "<tr>\n",
       "  <th>Dep. Variable:</th>            <td>y</td>        <th>  R-squared:         </th> <td>   0.213</td> \n",
       "</tr>\n",
       "<tr>\n",
       "  <th>Model:</th>                   <td>OLS</td>       <th>  Adj. R-squared:    </th> <td>   0.212</td> \n",
       "</tr>\n",
       "<tr>\n",
       "  <th>Method:</th>             <td>Least Squares</td>  <th>  F-statistic:       </th> <td>   1440.</td> \n",
       "</tr>\n",
       "<tr>\n",
       "  <th>Date:</th>             <td>Wed, 04 Dec 2019</td> <th>  Prob (F-statistic):</th> <td>3.18e-279</td>\n",
       "</tr>\n",
       "<tr>\n",
       "  <th>Time:</th>                 <td>18:01:08</td>     <th>  Log-Likelihood:    </th> <td> -79881.</td> \n",
       "</tr>\n",
       "<tr>\n",
       "  <th>No. Observations:</th>      <td>  5339</td>      <th>  AIC:               </th> <td>1.598e+05</td>\n",
       "</tr>\n",
       "<tr>\n",
       "  <th>Df Residuals:</th>          <td>  5337</td>      <th>  BIC:               </th> <td>1.598e+05</td>\n",
       "</tr>\n",
       "<tr>\n",
       "  <th>Df Model:</th>              <td>     1</td>      <th>                     </th>     <td> </td>    \n",
       "</tr>\n",
       "<tr>\n",
       "  <th>Covariance Type:</th>      <td>nonrobust</td>    <th>                     </th>     <td> </td>    \n",
       "</tr>\n",
       "</table>\n",
       "<table class=\"simpletable\">\n",
       "<tr>\n",
       "        <td></td>           <th>coef</th>     <th>std err</th>      <th>t</th>      <th>P>|t|</th>  <th>[0.025</th>    <th>0.975]</th>  \n",
       "</tr>\n",
       "<tr>\n",
       "  <th>const</th>         <td> 2.703e+04</td> <td> 2.28e+04</td> <td>    1.184</td> <td> 0.237</td> <td>-1.77e+04</td> <td> 7.18e+04</td>\n",
       "</tr>\n",
       "<tr>\n",
       "  <th>sqfttotliving</th> <td>  377.3949</td> <td>    9.944</td> <td>   37.950</td> <td> 0.000</td> <td>  357.900</td> <td>  396.890</td>\n",
       "</tr>\n",
       "</table>\n",
       "<table class=\"simpletable\">\n",
       "<tr>\n",
       "  <th>Omnibus:</th>       <td>9563.679</td> <th>  Durbin-Watson:     </th>   <td>   1.917</td>  \n",
       "</tr>\n",
       "<tr>\n",
       "  <th>Prob(Omnibus):</th>  <td> 0.000</td>  <th>  Jarque-Bera (JB):  </th> <td>20014205.191</td>\n",
       "</tr>\n",
       "<tr>\n",
       "  <th>Skew:</th>           <td>12.660</td>  <th>  Prob(JB):          </th>   <td>    0.00</td>  \n",
       "</tr>\n",
       "<tr>\n",
       "  <th>Kurtosis:</th>       <td>301.877</td> <th>  Cond. No.          </th>   <td>5.03e+03</td>  \n",
       "</tr>\n",
       "</table><br/><br/>Warnings:<br/>[1] Standard Errors assume that the covariance matrix of the errors is correctly specified.<br/>[2] The condition number is large, 5.03e+03. This might indicate that there are<br/>strong multicollinearity or other numerical problems."
      ],
      "text/plain": [
       "<class 'statsmodels.iolib.summary.Summary'>\n",
       "\"\"\"\n",
       "                            OLS Regression Results                            \n",
       "==============================================================================\n",
       "Dep. Variable:                      y   R-squared:                       0.213\n",
       "Model:                            OLS   Adj. R-squared:                  0.212\n",
       "Method:                 Least Squares   F-statistic:                     1440.\n",
       "Date:                Wed, 04 Dec 2019   Prob (F-statistic):          3.18e-279\n",
       "Time:                        18:01:08   Log-Likelihood:                -79881.\n",
       "No. Observations:                5339   AIC:                         1.598e+05\n",
       "Df Residuals:                    5337   BIC:                         1.598e+05\n",
       "Df Model:                           1                                         \n",
       "Covariance Type:            nonrobust                                         \n",
       "=================================================================================\n",
       "                    coef    std err          t      P>|t|      [0.025      0.975]\n",
       "---------------------------------------------------------------------------------\n",
       "const          2.703e+04   2.28e+04      1.184      0.237   -1.77e+04    7.18e+04\n",
       "sqfttotliving   377.3949      9.944     37.950      0.000     357.900     396.890\n",
       "==============================================================================\n",
       "Omnibus:                     9563.679   Durbin-Watson:                   1.917\n",
       "Prob(Omnibus):                  0.000   Jarque-Bera (JB):         20014205.191\n",
       "Skew:                          12.660   Prob(JB):                         0.00\n",
       "Kurtosis:                     301.877   Cond. No.                     5.03e+03\n",
       "==============================================================================\n",
       "\n",
       "Warnings:\n",
       "[1] Standard Errors assume that the covariance matrix of the errors is correctly specified.\n",
       "[2] The condition number is large, 5.03e+03. This might indicate that there are\n",
       "strong multicollinearity or other numerical problems.\n",
       "\"\"\""
      ]
     },
     "execution_count": 40,
     "metadata": {},
     "output_type": "execute_result"
    }
   ],
   "source": [
    "df_reduced0 = df[['sqfttotliving']]\n",
    "X = df_reduced0\n",
    "Y = df['saleprice']\n",
    "X_scaled = (X - np.mean(X)) / np.std(X)\n",
    "predictors = sm.add_constant(X_scaled)\n",
    "predictors = sm.add_constant(X)\n",
    "model = sm.OLS(np.asarray(Y), predictors).fit()\n",
    "model.summary()"
   ]
  },
  {
   "cell_type": "code",
   "execution_count": 41,
   "metadata": {
    "scrolled": false
   },
   "outputs": [
    {
     "ename": "TypeError",
     "evalue": "unsupported operand type(s) for *: 'type' and 'float'",
     "output_type": "error",
     "traceback": [
      "\u001b[0;31m---------------------------------------------------------------------------\u001b[0m",
      "\u001b[0;31mTypeError\u001b[0m                                 Traceback (most recent call last)",
      "\u001b[0;32m<ipython-input-41-c13030f0ba37>\u001b[0m in \u001b[0;36m<module>\u001b[0;34m\u001b[0m\n\u001b[1;32m      6\u001b[0m \u001b[0mplt\u001b[0m\u001b[0;34m.\u001b[0m\u001b[0mscatter\u001b[0m\u001b[0;34m(\u001b[0m\u001b[0mdf\u001b[0m\u001b[0;34m[\u001b[0m\u001b[0;34m'sqfttotliving'\u001b[0m\u001b[0;34m]\u001b[0m\u001b[0;34m,\u001b[0m \u001b[0mdf\u001b[0m\u001b[0;34m[\u001b[0m\u001b[0;34m'saleprice'\u001b[0m\u001b[0;34m]\u001b[0m\u001b[0;34m)\u001b[0m\u001b[0;34m\u001b[0m\u001b[0;34m\u001b[0m\u001b[0m\n\u001b[1;32m      7\u001b[0m \u001b[0mllist\u001b[0m \u001b[0;34m=\u001b[0m \u001b[0mrange\u001b[0m\u001b[0;34m(\u001b[0m\u001b[0;36m10000\u001b[0m\u001b[0;34m)\u001b[0m\u001b[0;34m\u001b[0m\u001b[0;34m\u001b[0m\u001b[0m\n\u001b[0;32m----> 8\u001b[0;31m \u001b[0mplt\u001b[0m\u001b[0;34m.\u001b[0m\u001b[0mplot\u001b[0m\u001b[0;34m(\u001b[0m\u001b[0mllist\u001b[0m\u001b[0;34m,\u001b[0m \u001b[0mmodel\u001b[0m\u001b[0;34m.\u001b[0m\u001b[0mparams\u001b[0m\u001b[0;34m[\u001b[0m\u001b[0;36m0\u001b[0m\u001b[0;34m]\u001b[0m\u001b[0;34m+\u001b[0m\u001b[0mlist\u001b[0m\u001b[0;34m*\u001b[0m\u001b[0mmodel\u001b[0m\u001b[0;34m.\u001b[0m\u001b[0mparams\u001b[0m\u001b[0;34m[\u001b[0m\u001b[0;36m1\u001b[0m\u001b[0;34m]\u001b[0m\u001b[0;34m,\u001b[0m \u001b[0mc\u001b[0m\u001b[0;34m=\u001b[0m\u001b[0;34m'black'\u001b[0m\u001b[0;34m)\u001b[0m\u001b[0;34m\u001b[0m\u001b[0;34m\u001b[0m\u001b[0m\n\u001b[0m\u001b[1;32m      9\u001b[0m \u001b[0mplt\u001b[0m\u001b[0;34m.\u001b[0m\u001b[0mxlabel\u001b[0m\u001b[0;34m(\u001b[0m\u001b[0;34m'sqrtfttotliving'\u001b[0m\u001b[0;34m,\u001b[0m \u001b[0mfontsize\u001b[0m\u001b[0;34m=\u001b[0m\u001b[0;36m14\u001b[0m\u001b[0;34m)\u001b[0m\u001b[0;34m\u001b[0m\u001b[0;34m\u001b[0m\u001b[0m\n\u001b[1;32m     10\u001b[0m \u001b[0mplt\u001b[0m\u001b[0;34m.\u001b[0m\u001b[0mylabel\u001b[0m\u001b[0;34m(\u001b[0m\u001b[0;34m'saleprice'\u001b[0m\u001b[0;34m,\u001b[0m \u001b[0mfontsize\u001b[0m\u001b[0;34m=\u001b[0m\u001b[0;36m14\u001b[0m\u001b[0;34m)\u001b[0m\u001b[0;34m\u001b[0m\u001b[0;34m\u001b[0m\u001b[0m\n",
      "\u001b[0;31mTypeError\u001b[0m: unsupported operand type(s) for *: 'type' and 'float'"
     ]
    },
    {
     "data": {
      "image/png": "[encoded data removed]",
      "text/plain": [
       "<Figure size 504x360 with 1 Axes>"
      ]
     },
     "metadata": {
      "needs_background": "light"
     },
     "output_type": "display_data"
    }
   ],
   "source": [
    "fig = plt.figure(figsize=(7, 5))\n",
    "fig.suptitle('sqfttotliving vs. saleprice', fontsize=16)\n",
    "axes= fig.add_axes([0.1, 0.1, 0.8, 0.8])\n",
    "axes.set_xlim([0,7000])\n",
    "axes.set_ylim([0,8000000])\n",
    "plt.scatter(df['sqfttotliving'], df['saleprice'])\n",
    "llist = range(10000)\n",
    "plt.plot(llist, model.params[0]+list*model.params[1], c='black')\n",
    "plt.xlabel('sqrtfttotliving', fontsize=14)\n",
    "plt.ylabel('saleprice', fontsize=14)\n",
    "plt.show()"
   ]
  },
  {
   "cell_type": "markdown",
   "metadata": {},
   "source": [
    "Plot error histogram."
   ]
  },
  {
   "cell_type": "code",
   "execution_count": 42,
   "metadata": {},
   "outputs": [
    {
     "data": {
      "image/png": "[encoded data removed]",
      "text/plain": [
       "<Figure size 432x288 with 1 Axes>"
      ]
     },
     "metadata": {
      "needs_background": "light"
     },
     "output_type": "display_data"
    }
   ],
   "source": [
    "plt.title(\"Error Histogram\")\n",
    "plt.hist(model.fittedvalues, bins=30);"
   ]
  },
  {
   "cell_type": "code",
   "execution_count": 24,
   "metadata": {
    "scrolled": false
   },
   "outputs": [
    {
     "name": "stderr",
     "output_type": "stream",
     "text": [
      "/opt/anaconda3/envs/learn-env/lib/python3.6/site-packages/numpy/core/fromnumeric.py:2389: FutureWarning: Method .ptp is deprecated and will be removed in a future version. Use numpy.ptp instead.\n",
      "  return ptp(axis=axis, out=out, **kwargs)\n"
     ]
    },
    {
     "data": {
      "text/html": [
       "<table class=\"simpletable\">\n",
       "<caption>OLS Regression Results</caption>\n",
       "<tr>\n",
       "  <th>Dep. Variable:</th>        <td>saleprice</td>    <th>  R-squared:         </th> <td>   0.215</td> \n",
       "</tr>\n",
       "<tr>\n",
       "  <th>Model:</th>                   <td>OLS</td>       <th>  Adj. R-squared:    </th> <td>   0.215</td> \n",
       "</tr>\n",
       "<tr>\n",
       "  <th>Method:</th>             <td>Least Squares</td>  <th>  F-statistic:       </th> <td>   730.9</td> \n",
       "</tr>\n",
       "<tr>\n",
       "  <th>Date:</th>             <td>Wed, 04 Dec 2019</td> <th>  Prob (F-statistic):</th> <td>2.83e-281</td>\n",
       "</tr>\n",
       "<tr>\n",
       "  <th>Time:</th>                 <td>17:19:04</td>     <th>  Log-Likelihood:    </th> <td> -79872.</td> \n",
       "</tr>\n",
       "<tr>\n",
       "  <th>No. Observations:</th>      <td>  5339</td>      <th>  AIC:               </th> <td>1.598e+05</td>\n",
       "</tr>\n",
       "<tr>\n",
       "  <th>Df Residuals:</th>          <td>  5336</td>      <th>  BIC:               </th> <td>1.598e+05</td>\n",
       "</tr>\n",
       "<tr>\n",
       "  <th>Df Model:</th>              <td>     2</td>      <th>                     </th>     <td> </td>    \n",
       "</tr>\n",
       "<tr>\n",
       "  <th>Covariance Type:</th>      <td>nonrobust</td>    <th>                     </th>     <td> </td>    \n",
       "</tr>\n",
       "</table>\n",
       "<table class=\"simpletable\">\n",
       "<tr>\n",
       "        <td></td>           <th>coef</th>     <th>std err</th>      <th>t</th>      <th>P>|t|</th>  <th>[0.025</th>    <th>0.975]</th>  \n",
       "</tr>\n",
       "<tr>\n",
       "  <th>const</th>         <td> 7.979e+05</td> <td> 1.04e+04</td> <td>   76.676</td> <td> 0.000</td> <td> 7.77e+05</td> <td> 8.18e+05</td>\n",
       "</tr>\n",
       "<tr>\n",
       "  <th>sqfttotliving</th> <td> 3.754e+05</td> <td> 1.15e+04</td> <td>   32.718</td> <td> 0.000</td> <td> 3.53e+05</td> <td> 3.98e+05</td>\n",
       "</tr>\n",
       "<tr>\n",
       "  <th>sqftopenporch</th> <td> 4.759e+04</td> <td> 1.15e+04</td> <td>    4.147</td> <td> 0.000</td> <td> 2.51e+04</td> <td> 7.01e+04</td>\n",
       "</tr>\n",
       "</table>\n",
       "<table class=\"simpletable\">\n",
       "<tr>\n",
       "  <th>Omnibus:</th>       <td>9596.659</td> <th>  Durbin-Watson:     </th>   <td>   1.918</td>  \n",
       "</tr>\n",
       "<tr>\n",
       "  <th>Prob(Omnibus):</th>  <td> 0.000</td>  <th>  Jarque-Bera (JB):  </th> <td>20613317.331</td>\n",
       "</tr>\n",
       "<tr>\n",
       "  <th>Skew:</th>           <td>12.747</td>  <th>  Prob(JB):          </th>   <td>    0.00</td>  \n",
       "</tr>\n",
       "<tr>\n",
       "  <th>Kurtosis:</th>       <td>306.334</td> <th>  Cond. No.          </th>   <td>    1.57</td>  \n",
       "</tr>\n",
       "</table><br/><br/>Warnings:<br/>[1] Standard Errors assume that the covariance matrix of the errors is correctly specified."
      ],
      "text/plain": [
       "<class 'statsmodels.iolib.summary.Summary'>\n",
       "\"\"\"\n",
       "                            OLS Regression Results                            \n",
       "==============================================================================\n",
       "Dep. Variable:              saleprice   R-squared:                       0.215\n",
       "Model:                            OLS   Adj. R-squared:                  0.215\n",
       "Method:                 Least Squares   F-statistic:                     730.9\n",
       "Date:                Wed, 04 Dec 2019   Prob (F-statistic):          2.83e-281\n",
       "Time:                        17:19:04   Log-Likelihood:                -79872.\n",
       "No. Observations:                5339   AIC:                         1.598e+05\n",
       "Df Residuals:                    5336   BIC:                         1.598e+05\n",
       "Df Model:                           2                                         \n",
       "Covariance Type:            nonrobust                                         \n",
       "=================================================================================\n",
       "                    coef    std err          t      P>|t|      [0.025      0.975]\n",
       "---------------------------------------------------------------------------------\n",
       "const          7.979e+05   1.04e+04     76.676      0.000    7.77e+05    8.18e+05\n",
       "sqfttotliving  3.754e+05   1.15e+04     32.718      0.000    3.53e+05    3.98e+05\n",
       "sqftopenporch  4.759e+04   1.15e+04      4.147      0.000    2.51e+04    7.01e+04\n",
       "==============================================================================\n",
       "Omnibus:                     9596.659   Durbin-Watson:                   1.918\n",
       "Prob(Omnibus):                  0.000   Jarque-Bera (JB):         20613317.331\n",
       "Skew:                          12.747   Prob(JB):                         0.00\n",
       "Kurtosis:                     306.334   Cond. No.                         1.57\n",
       "==============================================================================\n",
       "\n",
       "Warnings:\n",
       "[1] Standard Errors assume that the covariance matrix of the errors is correctly specified.\n",
       "\"\"\""
      ]
     },
     "execution_count": 24,
     "metadata": {},
     "output_type": "execute_result"
    }
   ],
   "source": [
    "preds_scaled = (preds - np.mean(preds)) / np.std(preds)\n",
    "predictors = sm.add_constant(preds_scaled)\n",
    "model = sm.OLS(target, predictors).fit()\n",
    "model.summary()"
   ]
  },
  {
   "cell_type": "code",
   "execution_count": 25,
   "metadata": {
    "scrolled": false
   },
   "outputs": [
    {
     "data": {
      "text/plain": [
       "<matplotlib.collections.PathCollection at 0x1c27eb3358>"
      ]
     },
     "execution_count": 25,
     "metadata": {},
     "output_type": "execute_result"
    },
    {
     "data": {
      "image/png": "[encoded data removed]",
      "text/plain": [
       "<Figure size 576x576 with 1 Axes>"
      ]
     },
     "metadata": {},
     "output_type": "display_data"
    }
   ],
   "source": [
    "plt.scatter(preds['sqftopenporch'], target)"
   ]
  },
  {
   "cell_type": "code",
   "execution_count": 30,
   "metadata": {
    "scrolled": true
   },
   "outputs": [],
   "source": [
    "X = df[['sqfttotliving','open_plus_closed_porch','wfntfootage']]\n",
    "Y = df['saleprice']\n",
    "# yrhouse 0.05"
   ]
  },
  {
   "cell_type": "code",
   "execution_count": 31,
   "metadata": {},
   "outputs": [
    {
     "data": {
      "text/html": [
       "<table class=\"simpletable\">\n",
       "<caption>OLS Regression Results</caption>\n",
       "<tr>\n",
       "  <th>Dep. Variable:</th>            <td>y</td>        <th>  R-squared:         </th> <td>   0.234</td> \n",
       "</tr>\n",
       "<tr>\n",
       "  <th>Model:</th>                   <td>OLS</td>       <th>  Adj. R-squared:    </th> <td>   0.233</td> \n",
       "</tr>\n",
       "<tr>\n",
       "  <th>Method:</th>             <td>Least Squares</td>  <th>  F-statistic:       </th> <td>   542.0</td> \n",
       "</tr>\n",
       "<tr>\n",
       "  <th>Date:</th>             <td>Wed, 04 Dec 2019</td> <th>  Prob (F-statistic):</th> <td>1.75e-307</td>\n",
       "</tr>\n",
       "<tr>\n",
       "  <th>Time:</th>                 <td>17:22:00</td>     <th>  Log-Likelihood:    </th> <td> -79808.</td> \n",
       "</tr>\n",
       "<tr>\n",
       "  <th>No. Observations:</th>      <td>  5339</td>      <th>  AIC:               </th> <td>1.596e+05</td>\n",
       "</tr>\n",
       "<tr>\n",
       "  <th>Df Residuals:</th>          <td>  5335</td>      <th>  BIC:               </th> <td>1.597e+05</td>\n",
       "</tr>\n",
       "<tr>\n",
       "  <th>Df Model:</th>              <td>     3</td>      <th>                     </th>     <td> </td>    \n",
       "</tr>\n",
       "<tr>\n",
       "  <th>Covariance Type:</th>      <td>nonrobust</td>    <th>                     </th>     <td> </td>    \n",
       "</tr>\n",
       "</table>\n",
       "<table class=\"simpletable\">\n",
       "<tr>\n",
       "             <td></td>               <th>coef</th>     <th>std err</th>      <th>t</th>      <th>P>|t|</th>  <th>[0.025</th>    <th>0.975]</th>  \n",
       "</tr>\n",
       "<tr>\n",
       "  <th>const</th>                  <td>  3.22e+04</td> <td> 2.27e+04</td> <td>    1.421</td> <td> 0.155</td> <td>-1.22e+04</td> <td> 7.66e+04</td>\n",
       "</tr>\n",
       "<tr>\n",
       "  <th>sqfttotliving</th>          <td>  357.4465</td> <td>   10.700</td> <td>   33.407</td> <td> 0.000</td> <td>  336.471</td> <td>  378.423</td>\n",
       "</tr>\n",
       "<tr>\n",
       "  <th>open_plus_closed_porch</th> <td>  225.6785</td> <td>   73.491</td> <td>    3.071</td> <td> 0.002</td> <td>   81.606</td> <td>  369.751</td>\n",
       "</tr>\n",
       "<tr>\n",
       "  <th>wfntfootage</th>            <td> 5391.3048</td> <td>  462.519</td> <td>   11.656</td> <td> 0.000</td> <td> 4484.579</td> <td> 6298.030</td>\n",
       "</tr>\n",
       "</table>\n",
       "<table class=\"simpletable\">\n",
       "<tr>\n",
       "  <th>Omnibus:</th>       <td>9354.657</td> <th>  Durbin-Watson:     </th>   <td>   1.917</td>  \n",
       "</tr>\n",
       "<tr>\n",
       "  <th>Prob(Omnibus):</th>  <td> 0.000</td>  <th>  Jarque-Bera (JB):  </th> <td>17991705.457</td>\n",
       "</tr>\n",
       "<tr>\n",
       "  <th>Skew:</th>           <td>12.078</td>  <th>  Prob(JB):          </th>   <td>    0.00</td>  \n",
       "</tr>\n",
       "<tr>\n",
       "  <th>Kurtosis:</th>       <td>286.361</td> <th>  Cond. No.          </th>   <td>5.06e+03</td>  \n",
       "</tr>\n",
       "</table><br/><br/>Warnings:<br/>[1] Standard Errors assume that the covariance matrix of the errors is correctly specified.<br/>[2] The condition number is large, 5.06e+03. This might indicate that there are<br/>strong multicollinearity or other numerical problems."
      ],
      "text/plain": [
       "<class 'statsmodels.iolib.summary.Summary'>\n",
       "\"\"\"\n",
       "                            OLS Regression Results                            \n",
       "==============================================================================\n",
       "Dep. Variable:                      y   R-squared:                       0.234\n",
       "Model:                            OLS   Adj. R-squared:                  0.233\n",
       "Method:                 Least Squares   F-statistic:                     542.0\n",
       "Date:                Wed, 04 Dec 2019   Prob (F-statistic):          1.75e-307\n",
       "Time:                        17:22:00   Log-Likelihood:                -79808.\n",
       "No. Observations:                5339   AIC:                         1.596e+05\n",
       "Df Residuals:                    5335   BIC:                         1.597e+05\n",
       "Df Model:                           3                                         \n",
       "Covariance Type:            nonrobust                                         \n",
       "==========================================================================================\n",
       "                             coef    std err          t      P>|t|      [0.025      0.975]\n",
       "------------------------------------------------------------------------------------------\n",
       "const                    3.22e+04   2.27e+04      1.421      0.155   -1.22e+04    7.66e+04\n",
       "sqfttotliving            357.4465     10.700     33.407      0.000     336.471     378.423\n",
       "open_plus_closed_porch   225.6785     73.491      3.071      0.002      81.606     369.751\n",
       "wfntfootage             5391.3048    462.519     11.656      0.000    4484.579    6298.030\n",
       "==============================================================================\n",
       "Omnibus:                     9354.657   Durbin-Watson:                   1.917\n",
       "Prob(Omnibus):                  0.000   Jarque-Bera (JB):         17991705.457\n",
       "Skew:                          12.078   Prob(JB):                         0.00\n",
       "Kurtosis:                     286.361   Cond. No.                     5.06e+03\n",
       "==============================================================================\n",
       "\n",
       "Warnings:\n",
       "[1] Standard Errors assume that the covariance matrix of the errors is correctly specified.\n",
       "[2] The condition number is large, 5.06e+03. This might indicate that there are\n",
       "strong multicollinearity or other numerical problems.\n",
       "\"\"\""
      ]
     },
     "execution_count": 31,
     "metadata": {},
     "output_type": "execute_result"
    }
   ],
   "source": [
    "X_scaled = (X - np.mean(X)) / np.std(X)\n",
    "predictors = sm.add_constant(X_scaled)\n",
    "predictors = sm.add_constant(X)\n",
    "model = sm.OLS(np.asarray(Y), predictors).fit()\n",
    "model.summary()"
   ]
  },
  {
   "cell_type": "code",
   "execution_count": null,
   "metadata": {},
   "outputs": [],
   "source": []
  }
 ],
 "metadata": {
  "kernelspec": {
   "display_name": "linreg-env",
   "language": "python",
   "name": "linreg-env"
  },
  "language_info": {
   "codemirror_mode": {
    "name": "ipython",
    "version": 3
   },
   "file_extension": ".py",
   "mimetype": "text/x-python",
   "name": "python",
   "nbconvert_exporter": "python",
   "pygments_lexer": "ipython3",
   "version": "3.6.9"
  }
 },
 "nbformat": 4,
 "nbformat_minor": 2
}
